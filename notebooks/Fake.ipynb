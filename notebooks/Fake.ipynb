{
 "cells": [
  {
   "cell_type": "code",
   "execution_count": 2,
   "metadata": {},
   "outputs": [],
   "source": [
    "from faker import Faker"
   ]
  },
  {
   "cell_type": "code",
   "execution_count": 3,
   "metadata": {},
   "outputs": [],
   "source": [
    "fake = Faker()"
   ]
  },
  {
   "cell_type": "code",
   "execution_count": 6,
   "metadata": {},
   "outputs": [],
   "source": [
    "data = fake.csv()"
   ]
  },
  {
   "cell_type": "code",
   "execution_count": 5,
   "metadata": {},
   "outputs": [],
   "source": [
    "import csv"
   ]
  },
  {
   "cell_type": "code",
   "execution_count": 17,
   "metadata": {},
   "outputs": [
    {
     "data": {
      "text/plain": [
       "['excel', 'excel-tab', 'unix', 'faker-csv']"
      ]
     },
     "execution_count": 17,
     "metadata": {},
     "output_type": "execute_result"
    }
   ],
   "source": [
    "csv.list_dialects()"
   ]
  },
  {
   "cell_type": "code",
   "execution_count": 9,
   "metadata": {},
   "outputs": [
    {
     "data": {
      "text/plain": [
       "'\"Jason Hodge\",\"11644 Katelyn Extension Suite 087\\nNew Christina, NC 20333\"\\r\\n\"Jessica Young\",\"USCGC Dickerson\\nFPO AE 26763\"\\r\\n\"Jeff Bass\",\"831 Gary Turnpike\\nGarciafort, TN 03345\"\\r\\n\"Tiffany Mcknight\",\"00263 Elizabeth Station\\nBrewerburgh, MO 28916\"\\r\\n\"Christopher Walker\",\"844 Christian Groves Suite 313\\nKristaside, NC 71260\"\\r\\n\"Maureen Butler\",\"85684 Brown Way Suite 727\\nAndersonfurt, IN 51545\"\\r\\n\"Rachel Greer\",\"000 Garcia Flat Apt. 939\\nEast Morgan, AZ 06782\"\\r\\n\"Jonathan Reeves\",\"2945 Cory Squares\\nNorth Richardton, WY 42682\"\\r\\n\"Allen May\",\"324 Jay Roads\\nNew Susanmouth, VA 80321\"\\r\\n\"Yesenia Mckenzie\",\"5347 Wendy Rue\\nWest Michelle, ID 50006\"\\r\\n'"
      ]
     },
     "execution_count": 9,
     "metadata": {},
     "output_type": "execute_result"
    }
   ],
   "source": [
    "data"
   ]
  },
  {
   "cell_type": "code",
   "execution_count": 21,
   "metadata": {},
   "outputs": [
    {
     "name": "stdout",
     "output_type": "stream",
     "text": [
      "['Jason Hodge']\n",
      "['', '']\n",
      "['11644 Katelyn Extension Suite 087\\nNew Christina, NC 20333']\n",
      "[]\n",
      "[]\n",
      "['Jessica Young']\n",
      "['', '']\n",
      "['USCGC Dickerson\\nFPO AE 26763']\n",
      "[]\n",
      "[]\n",
      "['Jeff Bass']\n",
      "['', '']\n",
      "['831 Gary Turnpike\\nGarciafort, TN 03345']\n",
      "[]\n",
      "[]\n",
      "['Tiffany Mcknight']\n",
      "['', '']\n",
      "['00263 Elizabeth Station\\nBrewerburgh, MO 28916']\n",
      "[]\n",
      "[]\n",
      "['Christopher Walker']\n",
      "['', '']\n",
      "['844 Christian Groves Suite 313\\nKristaside, NC 71260']\n",
      "[]\n",
      "[]\n",
      "['Maureen Butler']\n",
      "['', '']\n",
      "['85684 Brown Way Suite 727\\nAndersonfurt, IN 51545']\n",
      "[]\n",
      "[]\n",
      "['Rachel Greer']\n",
      "['', '']\n",
      "['000 Garcia Flat Apt. 939\\nEast Morgan, AZ 06782']\n",
      "[]\n",
      "[]\n",
      "['Jonathan Reeves']\n",
      "['', '']\n",
      "['2945 Cory Squares\\nNorth Richardton, WY 42682']\n",
      "[]\n",
      "[]\n",
      "['Allen May']\n",
      "['', '']\n",
      "['324 Jay Roads\\nNew Susanmouth, VA 80321']\n",
      "[]\n",
      "[]\n",
      "['Yesenia Mckenzie']\n",
      "['', '']\n",
      "['5347 Wendy Rue\\nWest Michelle, ID 50006']\n",
      "[]\n",
      "[]\n"
     ]
    }
   ],
   "source": [
    "for i in csv.reader(data, dialect='unix'):\n",
    "    print(i)"
   ]
  },
  {
   "cell_type": "code",
   "execution_count": null,
   "metadata": {},
   "outputs": [],
   "source": []
  }
 ],
 "metadata": {
  "kernelspec": {
   "display_name": "Python 3",
   "language": "python",
   "name": "python3"
  },
  "language_info": {
   "codemirror_mode": {
    "name": "ipython",
    "version": 3
   },
   "file_extension": ".py",
   "mimetype": "text/x-python",
   "name": "python",
   "nbconvert_exporter": "python",
   "pygments_lexer": "ipython3",
   "version": "3.6.12"
  }
 },
 "nbformat": 4,
 "nbformat_minor": 4
}
